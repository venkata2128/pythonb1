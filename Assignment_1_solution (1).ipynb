{
  "cells": [
    {
      "cell_type": "markdown",
      "id": "bfe940e0",
      "metadata": {
        "id": "bfe940e0"
      },
      "source": [
        "## Submitted by : D. karthikeya\n",
        "                 (590010703)"
      ]
    },
    {
      "cell_type": "markdown",
      "id": "f7ac102a",
      "metadata": {
        "id": "f7ac102a"
      },
      "source": [
        "# ASSIGNMENT 1\n",
        "\n",
        "##  Part 1"
      ]
    },
    {
      "cell_type": "markdown",
      "id": "ffa1c054",
      "metadata": {
        "id": "ffa1c054"
      },
      "source": [
        "Question  1 :  write a python scripts that print your name, course name, and the python version you are using\n",
        "also execute the script from the command line  and include a screenshot of the output"
      ]
    },
    {
      "cell_type": "markdown",
      "id": "433ed416",
      "metadata": {
        "id": "433ed416"
      },
      "source": [
        "![image.png](attachment:image.png)"
      ]
    },
    {
      "cell_type": "code",
      "execution_count": 3,
      "id": "9d846596",
      "metadata": {
        "colab": {
          "base_uri": "https://localhost:8080/"
        },
        "id": "9d846596",
        "outputId": "26d7e5d7-095b-41c0-87cd-02831c90cb95"
      },
      "outputs": [
        {
          "output_type": "stream",
          "name": "stdout",
          "text": [
            "Name: karthikeya\n",
            "Course: MCA with specialization in AI & ML\n",
            "Python Version: 3.10.12\n"
          ]
        }
      ],
      "source": [
        "import platform\n",
        "# putting the value\n",
        "name = \"karthikeya\"\n",
        "course = \"MCA with specialization in AI & ML\"\n",
        "\n",
        "print(\"Name:\", name)\n",
        "print(\"Course:\", course)\n",
        "print(\"Python Version:\", platform.python_version())\n"
      ]
    },
    {
      "cell_type": "markdown",
      "id": "29f42719",
      "metadata": {
        "id": "29f42719"
      },
      "source": [
        "![image.png](attachment:image.png)"
      ]
    },
    {
      "cell_type": "markdown",
      "id": "9f5caa59",
      "metadata": {
        "id": "9f5caa59"
      },
      "source": [
        "# Part 1->> Question 2"
      ]
    },
    {
      "cell_type": "markdown",
      "id": "c598986e",
      "metadata": {
        "id": "c598986e"
      },
      "source": [
        "![image.png](attachment:image.png)"
      ]
    },
    {
      "cell_type": "markdown",
      "id": "a06c5e36",
      "metadata": {
        "id": "a06c5e36"
      },
      "source": [
        "## solution\n",
        "\n",
        "![image.png](attachment:image.png)"
      ]
    },
    {
      "cell_type": "markdown",
      "id": "11154ad0",
      "metadata": {
        "id": "11154ad0"
      },
      "source": [
        "# Part 2  :  Basic python Syntax"
      ]
    },
    {
      "cell_type": "markdown",
      "id": "034e4f3e",
      "metadata": {
        "id": "034e4f3e"
      },
      "source": [
        "# 1 . String Operations"
      ]
    },
    {
      "cell_type": "markdown",
      "id": "a1494c16",
      "metadata": {
        "id": "a1494c16"
      },
      "source": [
        "#### Question :  Write  a python program that takes user first name and last name as input  and print them in reverse order with  a space between them"
      ]
    },
    {
      "cell_type": "code",
      "execution_count": 1,
      "id": "e9f1b47b",
      "metadata": {
        "colab": {
          "base_uri": "https://localhost:8080/"
        },
        "id": "e9f1b47b",
        "outputId": "b4d3a964-694d-4dc5-cee4-77a014fef49f"
      },
      "outputs": [
        {
          "output_type": "stream",
          "name": "stdout",
          "text": [
            "Enter your first name venkata\n",
            "Enter your last name karthikeya\n",
            "karthikeya venkata\n"
          ]
        }
      ],
      "source": [
        "# first we need to ask the input from the user\n",
        "first_name = input(\"Enter your first name \")\n",
        "last_name = input(\"Enter your last name \")\n",
        "\n",
        "# Printing the names in reverse order with a space in between\n",
        "print(last_name + \" \" + first_name)\n"
      ]
    },
    {
      "cell_type": "markdown",
      "id": "b70c29fc",
      "metadata": {
        "id": "b70c29fc"
      },
      "source": [
        "### Question :  Use at least two string methods and explain their purpose in the comments in python"
      ]
    },
    {
      "cell_type": "code",
      "execution_count": 2,
      "id": "0ac83e08",
      "metadata": {
        "colab": {
          "base_uri": "https://localhost:8080/"
        },
        "id": "0ac83e08",
        "outputId": "05080b21-1215-4527-ebf5-5217b2310a14"
      },
      "outputs": [
        {
          "output_type": "stream",
          "name": "stdout",
          "text": [
            "KARTHIKEYA VENKATA\n"
          ]
        }
      ],
      "source": [
        "# I,will take the above code of first_name and last_name , in that i will use two methods of string\n",
        "\n",
        "# 1  .string_variableName.upper()-> this method  convert the entire string to uppercase\n",
        "\n",
        "first_name=first_name.upper()\n",
        "last_name=last_name.upper()\n",
        "\n",
        "# 2 Second i will use REPLACE method, removing spaces within name)\n",
        "first_name = first_name.replace(\" \", \"\")\n",
        "last_name = last_name.replace(\" \", \"\")\n",
        "\n",
        "# Printing the names in reverse order with a space in between\n",
        "print(last_name + \" \" + first_name)"
      ]
    },
    {
      "cell_type": "markdown",
      "id": "83ecf981",
      "metadata": {
        "id": "83ecf981"
      },
      "source": [
        "# 2 .Numeric data type and Conversion functions"
      ]
    },
    {
      "cell_type": "markdown",
      "id": "34d98ee6",
      "metadata": {
        "id": "34d98ee6"
      },
      "source": [
        "### Question 1 : Write a python program that takes an input numbers from the users, convert it to different numeric data types(integers,float,and complex),and displays the converted values\n",
        "\n",
        "### Question 2: Also explain the difference between these data types in comments"
      ]
    },
    {
      "cell_type": "code",
      "execution_count": null,
      "id": "23b57075",
      "metadata": {
        "id": "23b57075",
        "outputId": "3e06d871-021f-43ab-83c6-eb0d10367412"
      },
      "outputs": [
        {
          "name": "stdout",
          "output_type": "stream",
          "text": [
            "Enter a number: 40\n",
            "Integer Value: 40\n",
            "Float Value: 40.0\n",
            "Complex Value: (40+0j)\n"
          ]
        }
      ],
      "source": [
        "# I am taking the input from the user , which is in string format so that i can convert easily to different data type\n",
        "user_input = input(\"Enter a number \")\n",
        "\n",
        "# converting the user_input to different data type\n",
        "integer_value = int(float(user_input))\n",
        "float_value = float(user_input)\n",
        "complex_value = complex(user_input)\n",
        "\n",
        "# printing\n",
        "print(\"Integer Value\", integer_value)\n",
        "print(\"Float Value\", float_value)\n",
        "print(\"Complex Value\", complex_value)\n",
        "\n",
        "\n"
      ]
    },
    {
      "cell_type": "markdown",
      "id": "4b2c776c",
      "metadata": {
        "id": "4b2c776c"
      },
      "source": [
        "## Explanation of data types:\n",
        "#### Integer: Represents whole numbers without a fractional component, e.g., 5, -3, 42. In this program, the input is converted to an integer by discarding any fractional part.\n",
        "\n",
        "#### Float: Represents numbers with a decimal point (fractional component), e.g., 3.14, -0.001, 2.0.The input is directly converted to a float to retain any decimal part.\n",
        "\n",
        "####  Complex: Represents numbers in the form of a + bj, where 'a' is the real part and 'b' is the imaginary part.The input is converted to a complex number, where the imaginary part is set to 0 if not provided. For example, entering \"3\" will result in a complex number 3+0j."
      ]
    },
    {
      "cell_type": "markdown",
      "id": "c7889b3d",
      "metadata": {
        "id": "c7889b3d"
      },
      "source": [
        "# Question 3"
      ]
    },
    {
      "cell_type": "markdown",
      "id": "cd7872e0",
      "metadata": {
        "id": "cd7872e0"
      },
      "source": [
        "![image.png](attachment:image.png)"
      ]
    },
    {
      "cell_type": "code",
      "execution_count": null,
      "id": "e530dd7c",
      "metadata": {
        "id": "e530dd7c",
        "outputId": "493ed76c-3d78-411a-acde-79c428dbeefc"
      },
      "outputs": [
        {
          "name": "stdout",
          "output_type": "stream",
          "text": [
            "Enter the length of rectangle-> 10\n",
            "Enter the width of rectangle-> 20\n",
            "200\n"
          ]
        }
      ],
      "source": [
        "# taking user input of length and width\n",
        "length=int(input(\"Enter the length of rectangle-> \"))\n",
        "width=int(input(\"Enter the width of rectangle-> \"))\n",
        "area= length*width\n",
        "print(area)"
      ]
    },
    {
      "cell_type": "markdown",
      "id": "57953bd7",
      "metadata": {
        "id": "57953bd7"
      },
      "source": [
        "![image.png](attachment:image.png)"
      ]
    },
    {
      "cell_type": "code",
      "execution_count": null,
      "id": "8135971c",
      "metadata": {
        "id": "8135971c",
        "outputId": "0f76e932-e554-427a-f241-a0f11e331724"
      },
      "outputs": [
        {
          "name": "stdout",
          "output_type": "stream",
          "text": [
            "Enter the length of rectangle-> 20\n",
            "Enter the width of rectangle-> 30\n",
            "The area of rectangle is 600.00\n"
          ]
        }
      ],
      "source": [
        "# we will using format string method in python for the above code\n",
        "# taking user input of length and width\n",
        "length=int(input(\"Enter the length of rectangle-> \"))\n",
        "width=int(input(\"Enter the width of rectangle-> \"))\n",
        "area= length*width\n",
        "print(f\"The area of rectangle is {area:.2f}\")"
      ]
    },
    {
      "cell_type": "markdown",
      "id": "8f1b51eb",
      "metadata": {
        "id": "8f1b51eb"
      },
      "source": [
        "# part 2:  Question 3\n",
        "![image.png](attachment:image.png)"
      ]
    },
    {
      "cell_type": "code",
      "execution_count": null,
      "id": "5bcf809a",
      "metadata": {
        "id": "5bcf809a",
        "outputId": "6eb6724f-7dc0-47f2-f153-97d4d356a8a8"
      },
      "outputs": [
        {
          "name": "stdout",
          "output_type": "stream",
          "text": [
            "Enter the first number30\n",
            "Enter the second number 40\n",
            "Enter the third number25\n",
            "The average of the three numbers is: 31.67\n"
          ]
        }
      ],
      "source": [
        "# Taking user input for three numbers\n",
        "num1 = int(input(\"Enter the first number\"))\n",
        "num2 = int(input(\"Enter the second number \"))\n",
        "num3 = int(input(\"Enter the third number\"))\n",
        "\n",
        "# Calculate the average\n",
        "calculate_average = (num1 + num2 + num3) / 3\n",
        "\n",
        "# Print the average using % formatting\n",
        "print(f\"The average of the three numbers is: %.2f\" % calculate_average)\n"
      ]
    },
    {
      "cell_type": "code",
      "execution_count": null,
      "id": "0cec5887",
      "metadata": {
        "id": "0cec5887"
      },
      "outputs": [],
      "source": []
    },
    {
      "cell_type": "markdown",
      "id": "4ca93676",
      "metadata": {
        "id": "4ca93676"
      },
      "source": [
        "# Part 3 : Language Components"
      ]
    },
    {
      "cell_type": "markdown",
      "id": "63eedf32",
      "metadata": {
        "id": "63eedf32"
      },
      "source": [
        "## Write a python program that ask the user for a number and determine whether it is postive,negative or zero\n"
      ]
    },
    {
      "cell_type": "code",
      "execution_count": null,
      "id": "aeeaca4d",
      "metadata": {
        "id": "aeeaca4d",
        "outputId": "5ceeb755-0a82-41de-c053-28dee00638f1"
      },
      "outputs": [
        {
          "name": "stdout",
          "output_type": "stream",
          "text": [
            "Enter a number: -20\n",
            "The number is negative\n"
          ]
        }
      ],
      "source": [
        "# user input\n",
        "number = float(input(\"Enter a number: \"))\n",
        "\n",
        "# checking if the number is positive, negative, or zero\n",
        "if number > 0:\n",
        "    print(\"The number is positive\")\n",
        "elif number < 0:\n",
        "    print(\"The number is negative\")\n",
        "else:\n",
        "    print(\"The number is zero\")\n"
      ]
    },
    {
      "cell_type": "markdown",
      "id": "44a91dc2",
      "metadata": {
        "id": "44a91dc2"
      },
      "source": [
        "## Implement  a loop that continues to ask the user for a number until they enter exit\n",
        "## use break to exit the loop and continue to prompt for a new number if the input is  not exits"
      ]
    },
    {
      "cell_type": "code",
      "execution_count": null,
      "id": "258a43e2",
      "metadata": {
        "id": "258a43e2",
        "outputId": "98dc9373-4d1e-4b43-9b9d-49199e38ede5"
      },
      "outputs": [
        {
          "name": "stdout",
          "output_type": "stream",
          "text": [
            "Enter a number (or type 'exit' to quit) 30\n",
            "The number is positive.\n",
            "Enter a number (or type 'exit' to quit) 20\n",
            "The number is positive.\n",
            "Enter a number (or type 'exit' to quit) 0\n",
            "The number is zero.\n",
            "Enter a number (or type 'exit' to quit) -12-\n",
            "Please enter a valid number or 'exit' to quit.\n",
            "Enter a number (or type 'exit' to quit) 200\n",
            "The number is positive.\n",
            "Enter a number (or type 'exit' to quit) exit\n",
            "Exiting the program.\n"
          ]
        }
      ],
      "source": [
        "# Loop to asking again and again from the user\n",
        "while True:\n",
        "    user_input = input(\"Enter a number (or type 'exit' to quit) \")\n",
        "\n",
        "    # Check if the user wants to exit\n",
        "    if user_input.lower() == 'exit':\n",
        "        print(\"Exiting the program.\")\n",
        "        break\n",
        "\n",
        "    # Try to convert the input to a float\n",
        "    # we will use exception handling , bcoz user can also different input\n",
        "    try:\n",
        "        number = float(user_input)\n",
        "\n",
        "        # checking\n",
        "        if number > 0:\n",
        "            print(\"The number is positive.\")\n",
        "        elif number < 0:\n",
        "            print(\"The number is negative.\")\n",
        "        else:\n",
        "            print(\"The number is zero.\")\n",
        "    except ValueError:\n",
        "        print(\"Please enter a valid number or 'exit' to quit.\")\n"
      ]
    },
    {
      "cell_type": "markdown",
      "id": "82cb8bb0",
      "metadata": {
        "id": "82cb8bb0"
      },
      "source": [
        "# part 3 :  Question 1 Relational and logical operators"
      ]
    },
    {
      "cell_type": "markdown",
      "id": "85fa05ad",
      "metadata": {
        "id": "85fa05ad"
      },
      "source": [
        "## Create a python script that takes two number as input  and print whether both numbers are even or odd or one of each using relational and logical operators"
      ]
    },
    {
      "cell_type": "code",
      "execution_count": null,
      "id": "373d4a0f",
      "metadata": {
        "id": "373d4a0f",
        "outputId": "39df9f0a-abc4-4cb7-ba0e-042ea077d8e7"
      },
      "outputs": [
        {
          "name": "stdout",
          "output_type": "stream",
          "text": [
            "Enter the first number 20\n",
            "Enter the second number 25\n",
            "One number is even and the other is odd\n"
          ]
        }
      ],
      "source": [
        "# user input\n",
        "num1 = int(input(\"Enter the first number \"))\n",
        "num2 = int(input(\"Enter the second number \"))\n",
        "\n",
        "# Checking  if both numbers are even or odd\n",
        "if num1 % 2 == 0 and num2 % 2 == 0:\n",
        "    print(\"Both numbers are even\")\n",
        "elif num1 % 2 != 0 and num2 % 2 != 0:\n",
        "    print(\"Both numbers are odd\")\n",
        "else:\n",
        "    print(\"One number is even and the other is odd\")\n"
      ]
    },
    {
      "cell_type": "markdown",
      "id": "e4d27451",
      "metadata": {
        "id": "e4d27451"
      },
      "source": [
        "## For loop and bitwise operators"
      ]
    },
    {
      "cell_type": "markdown",
      "id": "cee266dd",
      "metadata": {
        "id": "cee266dd"
      },
      "source": [
        "![image.png](attachment:image.png)"
      ]
    },
    {
      "cell_type": "code",
      "execution_count": null,
      "id": "676236fb",
      "metadata": {
        "id": "676236fb",
        "outputId": "c8865ed5-b70a-459c-939a-d13e050a9df1"
      },
      "outputs": [
        {
          "name": "stdout",
          "output_type": "stream",
          "text": [
            "Enter an integer 345\n",
            "Binary: 101011001\n",
            "Octal: 531\n",
            "Hexadecimal: 159\n"
          ]
        }
      ],
      "source": [
        "# user input\n",
        "number = int(input(\"Enter an integer \"))\n",
        "\n",
        "# Initialize variables for binary, octal, and hexadecimal representations\n",
        "binary = \"\"\n",
        "octal = \"\"\n",
        "hexadecimal = \"\"\n",
        "\n",
        "# Calculate binary representation using bitwise operators\n",
        "for i in range(31, -1, -1):  # Assuming 32 bits for the integer\n",
        "    # Check if the ith bit is set\n",
        "    if number & (1 << i):\n",
        "        binary += \"1\"\n",
        "    else:\n",
        "        binary += \"0\"\n",
        "\n",
        "# Remove leading zeros for binary representation\n",
        "binary = binary.lstrip(\"0\") or \"0\"\n",
        "\n",
        "# Calculate octal representation using bitwise operators\n",
        "temp_number = number\n",
        "while temp_number > 0:\n",
        "    octal_digit = temp_number & 7  # Get the last three bits\n",
        "    octal = str(octal_digit) + octal\n",
        "    temp_number >>= 3  # Right shift by 3 to move to the next group of bits\n",
        "\n",
        "# If the input number is 0, ensure the octal representation is \"0\"\n",
        "if not octal:\n",
        "    octal = \"0\"\n",
        "\n",
        "# Calculate hexadecimal representation using bitwise operators\n",
        "temp_number = number\n",
        "while temp_number > 0:\n",
        "    hex_digit = temp_number & 15  # Get the last four bits\n",
        "    # Convert to hexadecimal character\n",
        "    if hex_digit < 10:\n",
        "        hexadecimal = str(hex_digit) + hexadecimal\n",
        "    else:\n",
        "        hexadecimal = chr(ord('A') + hex_digit - 10) + hexadecimal_representation\n",
        "    temp_number >>= 4  # Right shift by 4 to move to the next group of bits\n",
        "\n",
        "# If the input number is 0, ensure the hexadecimal representation is \"0\"\n",
        "if not hexadecimal:\n",
        "    hexadecimal = \"0\"\n",
        "\n",
        "# Print the results\n",
        "print(f\"Binary: {binary}\")\n",
        "print(f\"Octal: {octal}\")\n",
        "print(f\"Hexadecimal: {hexadecimal}\")\n"
      ]
    },
    {
      "cell_type": "code",
      "execution_count": null,
      "id": "470a8a4f",
      "metadata": {
        "id": "470a8a4f"
      },
      "outputs": [],
      "source": []
    },
    {
      "cell_type": "code",
      "execution_count": null,
      "id": "b877ae1a",
      "metadata": {
        "id": "b877ae1a"
      },
      "outputs": [],
      "source": []
    }
  ],
  "metadata": {
    "kernelspec": {
      "display_name": "Python 3 (ipykernel)",
      "language": "python",
      "name": "python3"
    },
    "language_info": {
      "codemirror_mode": {
        "name": "ipython",
        "version": 3
      },
      "file_extension": ".py",
      "mimetype": "text/x-python",
      "name": "python",
      "nbconvert_exporter": "python",
      "pygments_lexer": "ipython3",
      "version": "3.10.9"
    },
    "colab": {
      "provenance": []
    }
  },
  "nbformat": 4,
  "nbformat_minor": 5
}